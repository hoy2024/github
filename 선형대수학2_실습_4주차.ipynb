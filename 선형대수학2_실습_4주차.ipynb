{
  "nbformat": 4,
  "nbformat_minor": 0,
  "metadata": {
    "colab": {
      "provenance": [],
      "gpuType": "T4",
      "mount_file_id": "1i7qtcukfKNPeu6z54GGgYxoiWVHbj4Uj",
      "authorship_tag": "ABX9TyOmzkS2ts1zu2uzZv611Jmp",
      "include_colab_link": true
    },
    "kernelspec": {
      "name": "python3",
      "display_name": "Python 3"
    },
    "language_info": {
      "name": "python"
    },
    "accelerator": "GPU"
  },
  "cells": [
    {
      "cell_type": "markdown",
      "metadata": {
        "id": "view-in-github",
        "colab_type": "text"
      },
      "source": [
        "<a href=\"https://colab.research.google.com/github/hoy2024/github/blob/main/%EC%84%A0%ED%98%95%EB%8C%80%EC%88%98%ED%95%992_%EC%8B%A4%EC%8A%B5_4%EC%A3%BC%EC%B0%A8.ipynb\" target=\"_parent\"><img src=\"https://colab.research.google.com/assets/colab-badge.svg\" alt=\"Open In Colab\"/></a>"
      ]
    },
    {
      "cell_type": "code",
      "execution_count": null,
      "metadata": {
        "colab": {
          "base_uri": "https://localhost:8080/"
        },
        "id": "SfIQVF0BVQn1",
        "outputId": "07e29129-b1f9-4780-b72f-c5c0201a1612"
      },
      "outputs": [
        {
          "output_type": "stream",
          "name": "stdout",
          "text": [
            "[0, 0, 0]\n"
          ]
        }
      ],
      "source": [
        "A=[1,2,3]\n",
        "B=[-1,-2,-3]\n",
        "C=[]\n",
        "\n",
        "for a,b in zip(A,B):\n",
        "    C.append(a+b)\n",
        "\n",
        "print(C)"
      ]
    },
    {
      "cell_type": "code",
      "source": [
        "import numpy as np\n",
        "A=np.array([1,2,3])\n",
        "B=np.array([-1,-2,-3])\n",
        "C=A+B\n",
        "\n",
        "print(C)"
      ],
      "metadata": {
        "colab": {
          "base_uri": "https://localhost:8080/"
        },
        "id": "glV9l77kZsPo",
        "outputId": "1eac3ffa-5ef6-4a08-c25d-6010eb976750"
      },
      "execution_count": null,
      "outputs": [
        {
          "output_type": "stream",
          "name": "stdout",
          "text": [
            "[0 0 0]\n"
          ]
        }
      ]
    },
    {
      "cell_type": "code",
      "source": [
        "a=np.array([0.1,0.2,0.3])\n",
        "print(a)\n",
        "a.dtype\n",
        "type(a[0])"
      ],
      "metadata": {
        "colab": {
          "base_uri": "https://localhost:8080/"
        },
        "id": "88cjBaJCbkFh",
        "outputId": "82de3791-3863-4650-aaca-61dba763579e"
      },
      "execution_count": null,
      "outputs": [
        {
          "output_type": "stream",
          "name": "stdout",
          "text": [
            "[0.1 0.2 0.3]\n"
          ]
        },
        {
          "output_type": "execute_result",
          "data": {
            "text/plain": [
              "numpy.float64"
            ]
          },
          "metadata": {},
          "execution_count": 3
        }
      ]
    },
    {
      "cell_type": "code",
      "source": [
        "b=[1,2,3]\n",
        "b=np.array(b)\n",
        "type(b[0])"
      ],
      "metadata": {
        "colab": {
          "base_uri": "https://localhost:8080/"
        },
        "id": "jBP5VJhAbyFn",
        "outputId": "caa4c983-2129-46a3-d86a-ed665b4b5e42"
      },
      "execution_count": null,
      "outputs": [
        {
          "output_type": "execute_result",
          "data": {
            "text/plain": [
              "numpy.int64"
            ]
          },
          "metadata": {},
          "execution_count": 4
        }
      ]
    },
    {
      "cell_type": "code",
      "source": [
        "b=np.array([1,2,3,4,5,6])\n",
        "b.std()"
      ],
      "metadata": {
        "colab": {
          "base_uri": "https://localhost:8080/"
        },
        "id": "yeUWT2dsZ9XL",
        "outputId": "fd7d47d6-714c-4c52-829c-6b6247106d5b"
      },
      "execution_count": null,
      "outputs": [
        {
          "output_type": "execute_result",
          "data": {
            "text/plain": [
              "1.707825127659933"
            ]
          },
          "metadata": {},
          "execution_count": 5
        }
      ]
    },
    {
      "cell_type": "code",
      "source": [
        "c=np.array([1,2,3],dtype=np.float64)\n",
        "type(c[0])"
      ],
      "metadata": {
        "colab": {
          "base_uri": "https://localhost:8080/"
        },
        "id": "egLnf6eRcBQg",
        "outputId": "0a9fa392-1943-43d1-f9b4-72ede9c93df6"
      },
      "execution_count": null,
      "outputs": [
        {
          "output_type": "execute_result",
          "data": {
            "text/plain": [
              "numpy.float64"
            ]
          },
          "metadata": {},
          "execution_count": 6
        }
      ]
    },
    {
      "cell_type": "code",
      "source": [
        "d=np.array([1.1,2.2,3.3,4.9])\n",
        "e=d.astype(np.int32)\n",
        "e"
      ],
      "metadata": {
        "colab": {
          "base_uri": "https://localhost:8080/"
        },
        "id": "Pn1ScJbWcO0v",
        "outputId": "29135850-08aa-4870-e665-a5d9b392c32c"
      },
      "execution_count": null,
      "outputs": [
        {
          "output_type": "execute_result",
          "data": {
            "text/plain": [
              "array([1, 2, 3, 4], dtype=int32)"
            ]
          },
          "metadata": {},
          "execution_count": 7
        }
      ]
    },
    {
      "cell_type": "code",
      "source": [
        "A=np.arange(0,50,5)\n",
        "print(A)"
      ],
      "metadata": {
        "colab": {
          "base_uri": "https://localhost:8080/"
        },
        "id": "hCqmA3jQflzk",
        "outputId": "90308962-29b7-4381-de89-5baad0daae4b"
      },
      "execution_count": null,
      "outputs": [
        {
          "output_type": "stream",
          "name": "stdout",
          "text": [
            "[ 0  5 10 15 20 25 30 35 40 45]\n"
          ]
        }
      ]
    },
    {
      "cell_type": "code",
      "source": [
        "A=np.linspace(0,10,10)\n",
        "print(A)\n",
        "B=np.linspace(0,100)\n",
        "print(B)"
      ],
      "metadata": {
        "colab": {
          "base_uri": "https://localhost:8080/"
        },
        "id": "6WKjeJQgfqzk",
        "outputId": "2de49dc7-6b6f-4dea-aa52-404cec136bd0"
      },
      "execution_count": null,
      "outputs": [
        {
          "output_type": "stream",
          "name": "stdout",
          "text": [
            "[ 0.          1.11111111  2.22222222  3.33333333  4.44444444  5.55555556\n",
            "  6.66666667  7.77777778  8.88888889 10.        ]\n",
            "[  0.           2.04081633   4.08163265   6.12244898   8.16326531\n",
            "  10.20408163  12.24489796  14.28571429  16.32653061  18.36734694\n",
            "  20.40816327  22.44897959  24.48979592  26.53061224  28.57142857\n",
            "  30.6122449   32.65306122  34.69387755  36.73469388  38.7755102\n",
            "  40.81632653  42.85714286  44.89795918  46.93877551  48.97959184\n",
            "  51.02040816  53.06122449  55.10204082  57.14285714  59.18367347\n",
            "  61.2244898   63.26530612  65.30612245  67.34693878  69.3877551\n",
            "  71.42857143  73.46938776  75.51020408  77.55102041  79.59183673\n",
            "  81.63265306  83.67346939  85.71428571  87.75510204  89.79591837\n",
            "  91.83673469  93.87755102  95.91836735  97.95918367 100.        ]\n"
          ]
        }
      ]
    },
    {
      "cell_type": "code",
      "source": [
        "A=np.arange(16)\n",
        "B=A.reshape(4,4)\n",
        "print(B)\n",
        "print(B.shape)\n",
        "print(B.base)\n",
        "print(B.base is A)\n",
        "\n",
        "B[0]=-1\n",
        "print(A)\n",
        "print(B)\n",
        "\n",
        "C=B.reshape(2,8).copy()\n",
        "print(C)\n",
        "print(C.shape)\n",
        "C[0]=0\n",
        "print(B)\n",
        "print(C)"
      ],
      "metadata": {
        "colab": {
          "base_uri": "https://localhost:8080/"
        },
        "id": "JRboLtBSgCKE",
        "outputId": "3259d139-5d99-4ba7-caf0-1abb50e8da48"
      },
      "execution_count": null,
      "outputs": [
        {
          "output_type": "stream",
          "name": "stdout",
          "text": [
            "[[ 0  1  2  3]\n",
            " [ 4  5  6  7]\n",
            " [ 8  9 10 11]\n",
            " [12 13 14 15]]\n",
            "(4, 4)\n",
            "[ 0  1  2  3  4  5  6  7  8  9 10 11 12 13 14 15]\n",
            "True\n",
            "[-1 -1 -1 -1  4  5  6  7  8  9 10 11 12 13 14 15]\n",
            "[[-1 -1 -1 -1]\n",
            " [ 4  5  6  7]\n",
            " [ 8  9 10 11]\n",
            " [12 13 14 15]]\n",
            "[[-1 -1 -1 -1  4  5  6  7]\n",
            " [ 8  9 10 11 12 13 14 15]]\n",
            "(2, 8)\n",
            "[[-1 -1 -1 -1]\n",
            " [ 4  5  6  7]\n",
            " [ 8  9 10 11]\n",
            " [12 13 14 15]]\n",
            "[[ 0  0  0  0  0  0  0  0]\n",
            " [ 8  9 10 11 12 13 14 15]]\n"
          ]
        }
      ]
    },
    {
      "cell_type": "code",
      "source": [
        "A=np.array([[1,2],[3,4]])\n",
        "print(A)\n",
        "print(A.shape)\n",
        "B=A.ravel()\n",
        "print(B)\n",
        "print(B.shape)\n",
        "print(B.base)\n",
        "print(B.base is A)\n"
      ],
      "metadata": {
        "colab": {
          "base_uri": "https://localhost:8080/"
        },
        "id": "7xDCkIaTgZap",
        "outputId": "1b6f7985-e4af-4b02-cb0e-ddd25cb44f27"
      },
      "execution_count": null,
      "outputs": [
        {
          "output_type": "stream",
          "name": "stdout",
          "text": [
            "[[1 2]\n",
            " [3 4]]\n",
            "(2, 2)\n",
            "[1 2 3 4]\n",
            "(4,)\n",
            "[[1 2]\n",
            " [3 4]]\n",
            "True\n"
          ]
        }
      ]
    },
    {
      "cell_type": "code",
      "source": [
        "A=np.arange(12)\n",
        "print(A)\n",
        "A.resize(3,4)\n",
        "print(A)"
      ],
      "metadata": {
        "colab": {
          "base_uri": "https://localhost:8080/"
        },
        "id": "PCqyKnAig-az",
        "outputId": "130eb577-48ac-4a0e-ec92-9a7e0490d88b"
      },
      "execution_count": null,
      "outputs": [
        {
          "output_type": "stream",
          "name": "stdout",
          "text": [
            "[ 0  1  2  3  4  5  6  7  8  9 10 11]\n",
            "[[ 0  1  2  3]\n",
            " [ 4  5  6  7]\n",
            " [ 8  9 10 11]]\n"
          ]
        }
      ]
    },
    {
      "cell_type": "code",
      "source": [
        "A=np.array([1,2,3])\n",
        "A=A[:,np.newaxis]\n",
        "print(A.shape)\n",
        "print(A)\n",
        "B=np.array([4,5,6])\n",
        "B=B[np.newaxis,:]\n",
        "print(B.shape)\n",
        "print(B)"
      ],
      "metadata": {
        "colab": {
          "base_uri": "https://localhost:8080/"
        },
        "id": "yR6usREmhGGx",
        "outputId": "bf895719-804d-4aa9-ad93-ede91d17b96c"
      },
      "execution_count": null,
      "outputs": [
        {
          "output_type": "stream",
          "name": "stdout",
          "text": [
            "(3, 1)\n",
            "[[1]\n",
            " [2]\n",
            " [3]]\n",
            "(1, 3)\n",
            "[[4 5 6]]\n"
          ]
        }
      ]
    },
    {
      "cell_type": "code",
      "source": [
        "A=np.array([[1,2],[3,4]])\n",
        "B=np.array([[1,0],[0,1]])\n",
        "print(A)\n",
        "print(B)\n",
        "C=np.vstack((A,B))\n",
        "print(C)"
      ],
      "metadata": {
        "colab": {
          "base_uri": "https://localhost:8080/"
        },
        "id": "pgM-pRo5hk6N",
        "outputId": "5079380a-f6e8-43df-c3f3-82f3a17f10d6"
      },
      "execution_count": null,
      "outputs": [
        {
          "output_type": "stream",
          "name": "stdout",
          "text": [
            "[[1 2]\n",
            " [3 4]]\n",
            "[[1 0]\n",
            " [0 1]]\n",
            "[[1 2]\n",
            " [3 4]\n",
            " [1 0]\n",
            " [0 1]]\n"
          ]
        }
      ]
    },
    {
      "cell_type": "code",
      "source": [
        "A=np.array([[1,2],[3,4]])\n",
        "B=np.array([[1,0],[0,1]])\n",
        "print(A)\n",
        "print(B)\n",
        "C=np.hstack((A,B))\n",
        "print(C)"
      ],
      "metadata": {
        "colab": {
          "base_uri": "https://localhost:8080/"
        },
        "id": "dnA4o4rah0Rg",
        "outputId": "3c42dcb6-da32-474a-cfc1-70f06f5996ad"
      },
      "execution_count": null,
      "outputs": [
        {
          "output_type": "stream",
          "name": "stdout",
          "text": [
            "[[1 2]\n",
            " [3 4]]\n",
            "[[1 0]\n",
            " [0 1]]\n",
            "[[1 2 1 0]\n",
            " [3 4 0 1]]\n"
          ]
        }
      ]
    },
    {
      "cell_type": "code",
      "source": [
        "A=np.array([1,2,3])\n",
        "B=np.array([4,5,6])\n",
        "C=np.array([7,8,9])\n",
        "E=np.column_stack((A,B,C))\n",
        "print(E)"
      ],
      "metadata": {
        "colab": {
          "base_uri": "https://localhost:8080/"
        },
        "id": "hLgFVg9qhybp",
        "outputId": "7baedf80-db5a-4791-b894-4afac915d40b"
      },
      "execution_count": null,
      "outputs": [
        {
          "output_type": "stream",
          "name": "stdout",
          "text": [
            "[[1 4 7]\n",
            " [2 5 8]\n",
            " [3 6 9]]\n"
          ]
        }
      ]
    },
    {
      "cell_type": "code",
      "source": [
        "A=np.array([[1,2],[3,4]])\n",
        "B=np.array([[1,0],[0,1]])\n",
        "print(A)\n",
        "print(B)\n",
        "print(np.concatenate((A,B),axis=0))\n",
        "print(np.concatenate((A,B),axis=1))"
      ],
      "metadata": {
        "colab": {
          "base_uri": "https://localhost:8080/"
        },
        "id": "_SpFCHeniGvj",
        "outputId": "88b432df-e0e6-434e-ff03-d73a56cf5406"
      },
      "execution_count": null,
      "outputs": [
        {
          "output_type": "stream",
          "name": "stdout",
          "text": [
            "[[1 2]\n",
            " [3 4]]\n",
            "[[1 0]\n",
            " [0 1]]\n",
            "[[1 2]\n",
            " [3 4]\n",
            " [1 0]\n",
            " [0 1]]\n",
            "[[1 2 1 0]\n",
            " [3 4 0 1]]\n"
          ]
        }
      ]
    },
    {
      "cell_type": "code",
      "source": [
        "A=np.arange(12)\n",
        "B=A\n",
        "print(A==B)\n",
        "print(A is B)\n",
        "A[0]=100\n",
        "B[11]=-1\n",
        "print(A)\n",
        "print(B)\n",
        "B.shape=3,4\n",
        "print(A.shape)\n",
        "\n",
        "def f(x):\n",
        "  print(id(x))\n",
        "\n",
        "a=np.array([1,2])\n",
        "print(id(a))\n",
        "print(f(a))"
      ],
      "metadata": {
        "colab": {
          "base_uri": "https://localhost:8080/"
        },
        "id": "NuxN5aqplKc7",
        "outputId": "ace4b01a-a120-483f-fd7a-0789f4de0e88"
      },
      "execution_count": null,
      "outputs": [
        {
          "output_type": "stream",
          "name": "stdout",
          "text": [
            "[ True  True  True  True  True  True  True  True  True  True  True  True]\n",
            "True\n",
            "[100   1   2   3   4   5   6   7   8   9  10  -1]\n",
            "[100   1   2   3   4   5   6   7   8   9  10  -1]\n",
            "(3, 4)\n",
            "132840797033488\n",
            "132840797033488\n",
            "None\n"
          ]
        }
      ]
    },
    {
      "cell_type": "code",
      "source": [
        "a=np.arange(12)\n",
        "b=a.view()\n",
        "\n",
        "print(a)\n",
        "print(b)\n",
        "\n",
        "print(b.base is a,a is b)\n",
        "\n",
        "a[0]=-1\n",
        "b[11]=100\n",
        "print(a)\n",
        "print(b)"
      ],
      "metadata": {
        "colab": {
          "base_uri": "https://localhost:8080/"
        },
        "id": "0u0V8NwvmJ5z",
        "outputId": "bceced55-cab0-4c60-e485-6719d77c724e"
      },
      "execution_count": null,
      "outputs": [
        {
          "output_type": "stream",
          "name": "stdout",
          "text": [
            "[ 0  1  2  3  4  5  6  7  8  9 10 11]\n",
            "[ 0  1  2  3  4  5  6  7  8  9 10 11]\n",
            "True False\n",
            "[ -1   1   2   3   4   5   6   7   8   9  10 100]\n",
            "[ -1   1   2   3   4   5   6   7   8   9  10 100]\n"
          ]
        }
      ]
    },
    {
      "cell_type": "code",
      "source": [
        "a.resize(3,4)\n",
        "print(a)\n",
        "print(b)\n",
        "\n",
        "a[0,2]=10000\n",
        "print(a)\n",
        "print(b)\n",
        "\n",
        "c=a[0]\n",
        "c[:]=0\n",
        "print(c)\n",
        "print(a)\n",
        "print(b)"
      ],
      "metadata": {
        "colab": {
          "base_uri": "https://localhost:8080/"
        },
        "id": "AaIpwxxhmZrg",
        "outputId": "7967e6e5-0d41-4703-e213-99fe2acdc447"
      },
      "execution_count": null,
      "outputs": [
        {
          "output_type": "stream",
          "name": "stdout",
          "text": [
            "[[ -1   1   2   3]\n",
            " [  4   5   6   7]\n",
            " [  8   9  10 100]]\n",
            "[ -1   1   2   3   4   5   6   7   8   9  10 100]\n",
            "[[   -1     1 10000     3]\n",
            " [    4     5     6     7]\n",
            " [    8     9    10   100]]\n",
            "[   -1     1 10000     3     4     5     6     7     8     9    10   100]\n",
            "[0 0 0 0]\n",
            "[[  0   0   0   0]\n",
            " [  4   5   6   7]\n",
            " [  8   9  10 100]]\n",
            "[  0   0   0   0   4   5   6   7   8   9  10 100]\n"
          ]
        }
      ]
    },
    {
      "cell_type": "code",
      "source": [
        "a=np.arange(12)\n",
        "\n",
        "b=a.copy()\n",
        "print(a==b)\n",
        "\n",
        "print(a is b)\n",
        "\n",
        "print(b.base is a)\n",
        "\n",
        "a[0]=-1\n",
        "b[11]=10000\n",
        "print(a)\n",
        "print(b)"
      ],
      "metadata": {
        "colab": {
          "base_uri": "https://localhost:8080/"
        },
        "id": "44eD6V9Tmqh5",
        "outputId": "be3d6dc3-5140-4205-f63d-71af317984e4"
      },
      "execution_count": null,
      "outputs": [
        {
          "output_type": "stream",
          "name": "stdout",
          "text": [
            "[ True  True  True  True  True  True  True  True  True  True  True  True]\n",
            "False\n",
            "False\n",
            "[-1  1  2  3  4  5  6  7  8  9 10 11]\n",
            "[    0     1     2     3     4     5     6     7     8     9    10 10000]\n"
          ]
        }
      ]
    },
    {
      "cell_type": "code",
      "source": [
        "A=np.array([[7,2],[-7,5]])\n",
        "b=np.array([-5,12])\n",
        "\n",
        "invA=np.linalg.inv(A)\n",
        "x=np.dot(invA,b)\n",
        "print(x)"
      ],
      "metadata": {
        "colab": {
          "base_uri": "https://localhost:8080/"
        },
        "id": "u7ufwwy5pl4F",
        "outputId": "bcd77fc3-cf5b-4a28-c16a-c79efeddb1ba"
      },
      "execution_count": null,
      "outputs": [
        {
          "output_type": "stream",
          "name": "stdout",
          "text": [
            "[-1.  1.]\n"
          ]
        }
      ]
    },
    {
      "cell_type": "code",
      "source": [
        "A=np.array([[7,2],[-7,5]])\n",
        "b=np.array([-5,12])\n",
        "x=np.linalg.solve(A,b)\n",
        "print(x)"
      ],
      "metadata": {
        "colab": {
          "base_uri": "https://localhost:8080/"
        },
        "id": "xNHTVvIrrspt",
        "outputId": "3ef37792-fcc8-41c5-d3d5-cb7a7172e1b2"
      },
      "execution_count": null,
      "outputs": [
        {
          "output_type": "stream",
          "name": "stdout",
          "text": [
            "[-1.  1.]\n"
          ]
        }
      ]
    },
    {
      "cell_type": "code",
      "source": [
        "import matplotlib.pyplot as plt\n",
        "A=np.array([[7,2],[-7,5]])\n",
        "b=np.array([-5,12])\n",
        "x=np.linalg.solve(A,b)\n",
        "\n",
        "x1,y1=x\n",
        "print(x1,y1)\n",
        "fig=plt.figure()\n",
        "ax=fig.add_subplot(1,1,1)\n",
        "\n",
        "a1=A[:,0]\n",
        "b1=A[:,1]\n",
        "c1=-B\n",
        "\n",
        "for c1,c2,c3 in zip(A[:,0],A[:,1],b):\n",
        "  x=np.linspace(-7,7,100)\n",
        "  y=(c3-c1*x)/c2\n",
        "  ax.plot(x,y,color=\"black\")\n",
        "\n",
        "\n",
        "ax.plot(x1,y1,'ro')\n",
        "ax.axis([-7,7,-7,7])\n",
        "ax.set_xticks(range(-7,7))\n",
        "ax.set_yticks(range(-7,7))\n",
        "ax.grid()\n",
        "ax.set_axisbelow(True)\n",
        "ax.set_aspect('auto',adjustable='box')\n",
        "ax.spines['left'].set_position('zero')\n",
        "ax.spines['bottom'].set_position('zero')\n",
        "ax.spines['right'].set_color('none')\n",
        "ax.spines['top'].set_color('none')\n",
        "plt.show()"
      ],
      "metadata": {
        "colab": {
          "base_uri": "https://localhost:8080/",
          "height": 433
        },
        "id": "6hVwcBYwqVBe",
        "outputId": "783ad5c1-ebc0-40ae-c494-3f92cbd7e866"
      },
      "execution_count": null,
      "outputs": [
        {
          "output_type": "stream",
          "name": "stdout",
          "text": [
            "-1.0 1.0\n"
          ]
        },
        {
          "output_type": "display_data",
          "data": {
            "text/plain": [
              "<Figure size 640x480 with 1 Axes>"
            ],
            "image/png": "[encoded data removed]"
          },
          "metadata": {}
        }
      ]
    },
    {
      "cell_type": "code",
      "source": [
        "!pip install matplotlib"
      ],
      "metadata": {
        "colab": {
          "base_uri": "https://localhost:8080/"
        },
        "id": "deHzsz0exb7v",
        "outputId": "db355f66-e17a-4b70-bae2-2364aa0d9e77"
      },
      "execution_count": null,
      "outputs": [
        {
          "output_type": "stream",
          "name": "stdout",
          "text": [
            "Requirement already satisfied: matplotlib in /usr/local/lib/python3.10/dist-packages (3.7.1)\n",
            "Requirement already satisfied: contourpy>=1.0.1 in /usr/local/lib/python3.10/dist-packages (from matplotlib) (1.2.0)\n",
            "Requirement already satisfied: cycler>=0.10 in /usr/local/lib/python3.10/dist-packages (from matplotlib) (0.12.1)\n",
            "Requirement already satisfied: fonttools>=4.22.0 in /usr/local/lib/python3.10/dist-packages (from matplotlib) (4.50.0)\n",
            "Requirement already satisfied: kiwisolver>=1.0.1 in /usr/local/lib/python3.10/dist-packages (from matplotlib) (1.4.5)\n",
            "Requirement already satisfied: numpy>=1.20 in /usr/local/lib/python3.10/dist-packages (from matplotlib) (1.25.2)\n",
            "Requirement already satisfied: packaging>=20.0 in /usr/local/lib/python3.10/dist-packages (from matplotlib) (24.0)\n",
            "Requirement already satisfied: pillow>=6.2.0 in /usr/local/lib/python3.10/dist-packages (from matplotlib) (9.4.0)\n",
            "Requirement already satisfied: pyparsing>=2.3.1 in /usr/local/lib/python3.10/dist-packages (from matplotlib) (3.1.2)\n",
            "Requirement already satisfied: python-dateutil>=2.7 in /usr/local/lib/python3.10/dist-packages (from matplotlib) (2.8.2)\n",
            "Requirement already satisfied: six>=1.5 in /usr/local/lib/python3.10/dist-packages (from python-dateutil>=2.7->matplotlib) (1.16.0)\n"
          ]
        }
      ]
    },
    {
      "cell_type": "code",
      "source": [
        "from google.colab import drive\n",
        "drive.mount('/content/drive')\n",
        "\n",
        "import cv2\n",
        "img_data = '/content/drive/MyDrive/AI lab/linear.jpg' #-- 이미지 경로\n",
        "\n",
        "from google.colab.patches import cv2_imshow\n",
        "\n",
        "image = cv2.imread(img_data)\n",
        "\n",
        "cv2_imshow(image)\n",
        "cv2.waitKey(0)\n",
        "cv2.destroyAllWindows()"
      ],
      "metadata": {
        "colab": {
          "base_uri": "https://localhost:8080/",
          "height": 200
        },
        "id": "HrLr3fzMuvnG",
        "outputId": "f3f9d5f7-a134-43c0-e06e-2c96170ffb12"
      },
      "execution_count": null,
      "outputs": [
        {
          "output_type": "stream",
          "name": "stdout",
          "text": [
            "Drive already mounted at /content/drive; to attempt to forcibly remount, call drive.mount(\"/content/drive\", force_remount=True).\n"
          ]
        },
        {
          "output_type": "display_data",
          "data": {
            "text/plain": [
              "<PIL.Image.Image image mode=RGB size=237x165>"
            ],
            "image/png": "[encoded data removed]"
          },
          "metadata": {}
        }
      ]
    }
  ]
}