{
  "nbformat": 4,
  "nbformat_minor": 0,
  "metadata": {
    "colab": {
      "provenance": [],
      "gpuType": "T4",
      "mount_file_id": "1rUfr17nXyquSUt4SCA3r-hgLbiIsJZK1",
      "authorship_tag": "ABX9TyN3H5YOau1Gvl4j9eOaJLWM",
      "include_colab_link": true
    },
    "kernelspec": {
      "name": "python3",
      "display_name": "Python 3"
    },
    "language_info": {
      "name": "python"
    },
    "accelerator": "GPU"
  },
  "cells": [
    {
      "cell_type": "markdown",
      "metadata": {
        "id": "view-in-github",
        "colab_type": "text"
      },
      "source": [
        "<a href=\"https://colab.research.google.com/github/qscrszqscrsz/qs/blob/main/Untitled1.ipynb\" target=\"_parent\"><img src=\"https://colab.research.google.com/assets/colab-badge.svg\" alt=\"Open In Colab\"/></a>"
      ]
    },
    {
      "cell_type": "code",
      "execution_count": null,
      "metadata": {
        "id": "MfGSLhh2Rarw"
      },
      "outputs": [],
      "source": [
        "print (\"Hello, world\")\n",
        "\n",
        "# integer\n",
        "x=3\n",
        "print(\"정수: %01d,%02d,%03d,%04d,%05d\")"
      ]
    }
  ]
}